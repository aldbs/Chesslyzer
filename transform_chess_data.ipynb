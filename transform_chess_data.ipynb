{
 "cells": [
  {
   "cell_type": "code",
   "execution_count": 1,
   "metadata": {},
   "outputs": [],
   "source": [
    "# Objective : create ETL process for Chess.com data"
   ]
  },
  {
   "cell_type": "code",
   "execution_count": 1,
   "metadata": {},
   "outputs": [],
   "source": [
    "# Imports \n",
    "import chessdotcom as chess\n",
    "import pandas as pd\n",
    "import numpy as np\n",
    "import re\n",
    "import stockfish\n",
    "\n",
    "pd.set_option('display.max_columns',200)"
   ]
  },
  {
   "cell_type": "code",
   "execution_count": 2,
   "metadata": {},
   "outputs": [],
   "source": [
    "# Define player profile: warning it is case sensitive\n",
    "player_profile = 'aledbs' "
   ]
  },
  {
   "cell_type": "code",
   "execution_count": 3,
   "metadata": {},
   "outputs": [],
   "source": [
    "def extract_pgn_values(pgn:str):\n",
    "  '''\n",
    "  Convert a pgn string into a list of all values\n",
    "\n",
    "      Parameters:\n",
    "          pgn_str: A pgn string \n",
    "      \n",
    "      Returns: \n",
    "          pgn_values (list): List containing value of a pgn string \n",
    "  '''\n",
    "  pgn = str(pgn).split('\\n\\n')[0]\n",
    "  pattern = '\"([^\"]*)\"'\n",
    "  pgn_values = re.findall(pattern, pgn)\n",
    "\n",
    "  return pgn_values\n",
    "\n",
    "def extract_pgn_columns(pgn:str):\n",
    "  '''\n",
    "  Convert a pgn string into a list of keys of a pgn string \n",
    "\n",
    "      Parameters:\n",
    "          pgn_str: A pgn string \n",
    "      \n",
    "      Returns: \n",
    "          pgn_columns (list): List containing keys of a pgn string \n",
    "  '''\n",
    "  pgn = pgn.split('\\n\\n')[0]\n",
    "  pattern = '\\[([^\\s]*)'\n",
    "  pgn_columns = re.findall(pattern, pgn)\n",
    "  return pgn_columns\n",
    "\n",
    "def convert_pgn_to_columns(df:pd.DataFrame):\n",
    "  '''\n",
    "    Extract pgn information into new columns of existing DataFrame  \n",
    "\n",
    "        Parameters:\n",
    "            df: DataFrame with games data including a column name 'pgn' \n",
    "        \n",
    "        Returns: \n",
    "            concat_pgn_df (DataFrame): Input Dataframe with new columns extracted from pgn \n",
    "    '''\n",
    "  game_df = df.copy()\n",
    "  game_df = game_df[game_df['rules'] != 'bughouse']\n",
    "\n",
    "  game_df['pgn2'] = game_df['pgn'].apply(extract_pgn_values)\n",
    "\n",
    "\n",
    "  expanded_game_df = game_df.pgn2.apply(pd.Series)\n",
    "  expanded_game_df.columns = extract_pgn_columns(game_df.pgn.iloc[0]) #hyp: all pgn has same column format\n",
    "\n",
    "  game_df = pd.concat([game_df, expanded_game_df], axis=1)\n",
    "\n",
    "  game_df['Moves'] = game_df['pgn'].map(lambda x: x.split('\\n\\n')[1])\n",
    "\n",
    "  game_df.pop('pgn2')\n",
    "\n",
    "  return game_df\n"
   ]
  },
  {
   "cell_type": "code",
   "execution_count": 4,
   "metadata": {},
   "outputs": [],
   "source": [
    "# def parse_moves(move:str):\n",
    "\n",
    "#     # Extract clock information\n",
    "#     # pattern_clk = '{%clk\\s(.*?)\\}'\n",
    "#     pattern_clk = r'\\[(.*?)\\]'\n",
    "#     clk = re.findall(pattern_clk, move.replace('%clk ', ''))\n",
    "\n",
    "#     # Extract move information\n",
    "#     pattern_moves = '\\d+\\.\\s*(.*?)\\s*{'\n",
    "#     moves = re.findall(pattern_moves, move)\n",
    "#     for index, res in enumerate(moves):\n",
    "#         moves[index] = res.split(' ')[-1]\n",
    "\n",
    "#     # Create df with White moves, Withe Clock, Black moves, Black Clock\n",
    "#     white_moves = [i for index, i in enumerate(moves) if index % 2 == 0]\n",
    "#     white_clk = [i for index, i in enumerate(clk) if index % 2 == 0]\n",
    "\n",
    "#     black_moves = [i for index, i in enumerate(moves) if index % 2 == 1]\n",
    "#     black_clk = [i for index, i in enumerate(clk) if index % 2 == 1]\n",
    "\n",
    "#     if len(black_moves) < len(white_moves):\n",
    "#         black_moves.append('')\n",
    "#         black_clk.append('')\n",
    "\n",
    "\n",
    "#     game_moves = {'move': list(range(1, len(white_moves)+1)) , \n",
    "#                   'WhiteMoves': white_moves, \n",
    "#                   'WhiteClock': white_clk, \n",
    "#                   'BlackMoves': black_moves, \n",
    "#                   'BlackClock': black_clk}\n",
    "    \n",
    "#     return game_moves"
   ]
  },
  {
   "cell_type": "code",
   "execution_count": 5,
   "metadata": {},
   "outputs": [],
   "source": [
    "def data_transformation(game_df, player_profile):\n",
    "    df = game_df.copy()\n",
    "\n",
    "    df.reset_index(inplace = True, drop = True)\n",
    "\n",
    "    df.drop(df.loc[df['pgn'].apply(extract_pgn_columns).apply(len) < 21].index, inplace=True) #remove game with a pgn in error\n",
    "\n",
    "    df[['Date', \n",
    "        'UTCDate', \n",
    "        'EndDate', \n",
    "        'EndTime', \n",
    "        'StartTime']] = df[['Date', \n",
    "                           'UTCDate', \n",
    "                           'EndDate', \n",
    "                           'EndTime', \n",
    "                           'StartTime']].apply(pd.to_datetime)\n",
    "\n",
    "    df[['WhiteElo','BlackElo']] = df[['WhiteElo','BlackElo']].astype(int)\n",
    "    # df['BlackElo'] = df['BlackElo'].astype(int)\n",
    "\n",
    "    df['TerminationStatus'] = pd.Series(dtype=str)\n",
    "    df.loc[df['Termination'].str.contains(player_profile), 'TerminationStatus'] = 'Win'\n",
    "    df.loc[df['Termination'].str.contains('won') & ~df['Termination'].str.contains(player_profile, na=False), 'TerminationStatus'] = 'Lose'\n",
    "    df.loc[df['Termination'].str.contains('drawn'), 'TerminationStatus'] = 'Draw'\n",
    "    \n",
    "    df['PlayerSide'] = pd.Series(dtype=str)\n",
    "    df.loc[df['White']==player_profile, 'PlayerSide'] = 'White'\n",
    "    df.loc[df['White']!=player_profile, 'PlayerSide'] = 'Black'\n",
    "\n",
    "    df['PlayerElo'] = pd.Series(dtype=int)\n",
    "    df.loc[df['White']==player_profile, 'PlayerElo'] = df['WhiteElo'][df['White']==player_profile]\n",
    "    df.loc[df['White']!=player_profile, 'PlayerElo'] = df['BlackElo'][df['White']!=player_profile]\n",
    "\n",
    "    df['OpponentElo'] = pd.Series(dtype=int)\n",
    "    df.loc[df['White']==player_profile, 'OpponentElo'] = df['BlackElo'][df['White']==player_profile]\n",
    "    df.loc[df['White']!=player_profile, 'OpponentElo'] = df['WhiteElo'][df['White']!=player_profile]\n",
    "\n",
    "    df['PlayerAccuracie'] = pd.Series(dtype=float)\n",
    "    df.loc[df['White']==player_profile, 'PlayerAccuracie'] = df['white_accuracie'][df['White']==player_profile]\n",
    "    df.loc[df['White']!=player_profile, 'PlayerAccuracie'] = df['black_accuracie'][df['White']!=player_profile]\n",
    "\n",
    "    df['eloDiff'] = pd.Series(dtype=float)\n",
    "    df['eloDiff'] = df['PlayerElo'] - df['OpponentElo']\n",
    "    \n",
    "    df['Duration'] = df['EndTime'] - df['StartTime']\n",
    "\n",
    "    df['TerminationType'] = df['Termination'].apply(lambda x: str(x).split('drawn')[-1] if str(x).split(' won ')[-1] is None else str(x).split(' won ')[-1])\n",
    "    \n",
    "    df['Opening'] = df['ECOUrl'].str.replace('https://www.chess.com/openings/','')\n",
    "\n",
    "    # df['Moves'] = df['Moves'].apply(parse_moves)\n",
    "\n",
    "    return df\n"
   ]
  },
  {
   "cell_type": "code",
   "execution_count": 19,
   "metadata": {},
   "outputs": [],
   "source": [
    "game_df = pd.read_pickle('./data/raw_api_data.pkl')"
   ]
  },
  {
   "cell_type": "code",
   "execution_count": 21,
   "metadata": {},
   "outputs": [],
   "source": [
    "game_df = convert_pgn_to_columns(game_df)"
   ]
  },
  {
   "cell_type": "code",
   "execution_count": 22,
   "metadata": {},
   "outputs": [
    {
     "name": "stderr",
     "output_type": "stream",
     "text": [
      "C:\\Users\\User\\AppData\\Local\\Temp\\ipykernel_2868\\3771517762.py:49: FutureWarning: The default value of regex will change from True to False in a future version.\n",
      "  df['Opening'] = df['ECOUrl'].str.replace('https://www.chess.com/openings/','')\n"
     ]
    }
   ],
   "source": [
    "game_df = data_transformation(game_df, player_profile)"
   ]
  },
  {
   "cell_type": "code",
   "execution_count": 24,
   "metadata": {},
   "outputs": [],
   "source": [
    "game_df.to_pickle(\"./data/full_games_history.pkl\")"
   ]
  }
 ],
 "metadata": {
  "kernelspec": {
   "display_name": "base",
   "language": "python",
   "name": "python3"
  },
  "language_info": {
   "codemirror_mode": {
    "name": "ipython",
    "version": 3
   },
   "file_extension": ".py",
   "mimetype": "text/x-python",
   "name": "python",
   "nbconvert_exporter": "python",
   "pygments_lexer": "ipython3",
   "version": "3.9.12"
  },
  "orig_nbformat": 4
 },
 "nbformat": 4,
 "nbformat_minor": 2
}
