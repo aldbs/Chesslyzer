{
  "cells": [
    {
      "cell_type": "markdown",
      "metadata": {
        "id": "01xqqC2cNlTt"
      },
      "source": [
        "# Chess analytics project\n",
        "## Description du project\n",
        "Voir : https://www.notion.so/aldbs/Dashboard-sur-mes-stats-Chess-com-b9b4b950d0e24d0c8e3a1655e0429d22\n",
        "\n",
        "Documentation technique : https://pypi.org/project/chess.com/, https://chesscom.readthedocs.io/en/latest/#api-reference\n",
        "\n",
        "Chess module python : https://python-chess.readthedocs.io/en/latest/pgn.html\n",
        "\n",
        "## Etapes\n",
        "1. Intégrer toutes les données d'un joueur\n",
        "2. Calcul de KPI (Nombre de match jouer sur la période, nombre de victoires, analyse des variantes jouées)\n"
      ]
    },
    {
      "cell_type": "code",
      "execution_count": null,
      "metadata": {
        "id": "LmsI347aHF6r"
      },
      "outputs": [],
      "source": [
        "pip install chess.com"
      ]
    },
    {
      "cell_type": "code",
      "execution_count": null,
      "metadata": {
        "id": "gGgRDrosJSZi"
      },
      "outputs": [],
      "source": [
        "!pip install nest_asyncio\n",
        "import nest_asyncio\n",
        "nest_asyncio.apply()"
      ]
    },
    {
      "cell_type": "code",
      "execution_count": null,
      "metadata": {
        "id": "FmNkbH4sHJIj"
      },
      "outputs": [],
      "source": [
        "import chessdotcom as chess\n",
        "import json\n",
        "import requests\n",
        "import pandas as pd\n",
        "import numpy as np\n",
        "# import chess as ch\n",
        "# import re\n",
        "# import itertools"
      ]
    },
    {
      "cell_type": "code",
      "execution_count": null,
      "metadata": {
        "id": "tkd0HwOiPYrc"
      },
      "outputs": [],
      "source": [
        "# Define player profile\n",
        "player_profile = 'ACENash'"
      ]
    },
    {
      "cell_type": "markdown",
      "metadata": {
        "id": "DX2-V8T8OyQr"
      },
      "source": [
        "## **Get general user statistics** "
      ]
    },
    {
      "cell_type": "code",
      "execution_count": null,
      "metadata": {
        "id": "FVOq-xkVUlw2"
      },
      "outputs": [],
      "source": [
        "# Get player stats\n",
        "def player_stats(profile):\n",
        "    \"\"\"\n",
        "    Return a dataframe of player's statistics\n",
        "\n",
        "    Args:\n",
        "        profile: chess.com profile of the player we want to analyze\n",
        "    \"\"\"\n",
        "    # Get data from chess.com\n",
        "    player_stats = chess.get_player_stats(player_profile).json\n",
        "\n",
        "    # Format payload\n",
        "    ps_df = pd.DataFrame.from_dict(player_stats['stats'])\n",
        "    ps_df = (ps_df.drop(columns=['fide', 'tactics', 'lessons', 'puzzle_rush'], errors='ignore').\n",
        "             dropna().\n",
        "             transpose()['record'].\n",
        "             reset_index().\n",
        "             rename(columns={'index': 'game_type'}\n",
        "                    )\n",
        "             )\n",
        "\n",
        "    ps_df = pd.concat([ps_df.drop(['record'], axis=1), ps_df['record'].apply(pd.Series)], axis=1)\n",
        "\n",
        "    # Compute basic statistics\n",
        "    ps_df['winning% '] = ps_df['win'] / (ps_df['win'] + ps_df['loss'] + ps_df['draw'])*100\n",
        "    ps_df['losing% '] = ps_df['loss'] / (ps_df['win'] + ps_df['loss'] + ps_df['draw'])*100\n",
        "    ps_df['drawing% '] = ps_df['draw'] / (ps_df['win'] + ps_df['loss'] + ps_df['draw'])*100\n",
        "\n",
        "    return ps_df\n",
        "\n",
        "# Get total amout of game played\n",
        "def global_player_statistic(player_stat_df):\n",
        "    total_games = sum(player_stat_df['win']) + sum(player_stat_df['loss']) + sum(player_stat_df['draw'])\n",
        "    total_win = sum(player_stat_df['win'])\n",
        "    total_loss = sum(player_stat_df['loss'])\n",
        "    total_draw = sum(player_stat_df['draw'])\n",
        "    winnnig_perc = total_win/total_games*100\n",
        "    losing_perc = total_loss/total_games*100\n",
        "    drawing_perc = total_draw/total_games*100\n",
        "    return total_games, total_win, total_loss, total_draw, winnnig_perc, losing_perc, drawing_perc"
      ]
    },
    {
      "cell_type": "markdown",
      "metadata": {
        "id": "EQDwtv_ZHWdv"
      },
      "source": [
        "## **Get games history**"
      ]
    },
    {
      "cell_type": "code",
      "execution_count": null,
      "metadata": {
        "id": "qPpH8x1BSEq6"
      },
      "outputs": [],
      "source": [
        "# Récupérer la liste de tous les mois\n",
        "# Déterminer depuis combien de mois le users joue\n",
        "\n",
        "def get_player_timeline(player_profile):\n",
        "    list_archives_games = chess.get_player_game_archives(player_profile).json['archives']\n",
        "    return [i.split('/')[-2:] for i in list_archives_games]"
      ]
    },
    {
      "cell_type": "code",
      "execution_count": null,
      "metadata": {
        "id": "vChN9YqSHUKa"
      },
      "outputs": [],
      "source": [
        "# Convertir un fichier pgn (str) en une liste\n",
        "\n",
        "def extract_pgn_to_list(pgn_str):\n",
        "  split_pgn_in_lines = str(pgn_str).replace('[',\"\").replace(']',\"\").replace('\"',\"\").split('\\n')\n",
        "  split_pgn_by_column_value = [item.split(' ', maxsplit=1) for item in split_pgn_in_lines[:-2]]\n",
        "  append_to_list = split_pgn_by_column_value.append(['Moves', split_pgn_in_lines[-2]])\n",
        "  \n",
        "  return split_pgn_by_column_value"
      ]
    },
    {
      "cell_type": "code",
      "execution_count": null,
      "metadata": {
        "id": "a-Z1cHPeHUHL"
      },
      "outputs": [],
      "source": [
        "# Extraction de l'historique et chargement dans un dataframe \n",
        "def get_all_player_games(player_profile, player_timeline):\n",
        "  game_df = pd.DataFrame()\n",
        "\n",
        "  for month_year in player_timeline:\n",
        "      monthly_game = chess.get_player_games_by_month(player_profile, month_year[0], month_year[1])\n",
        "\n",
        "      #Create df with games of the given month\n",
        "      monthly_game_df = pd.DataFrame(monthly_game.json['games'])\n",
        "      game_df = pd.concat([game_df,monthly_game_df])\n",
        "  return game_df\n",
        "\n",
        "\n",
        "\n",
        "def convert_pgn_columns(df):\n",
        "  game_df = df\n",
        "  game_df = game_df[game_df['rules'] != 'bughouse']\n",
        "\n",
        "  game_df['pgn_2'] = game_df['pgn'].apply(extract_pgn_to_list)\n",
        "\n",
        "  concat_pgn_df = pd.DataFrame()\n",
        "\n",
        "  for item in game_df['pgn_2']:\n",
        "    columns = [subitem[0] for subitem in item]\n",
        "    values = [subitem[-1] for subitem in item]\n",
        "    item_concat_pgn_df = pd.DataFrame(values).transpose()\n",
        "    item_concat_pgn_df.columns = columns\n",
        "    concat_pgn_df = pd.concat([concat_pgn_df, item_concat_pgn_df])\n",
        "  \n",
        "  return concat_pgn_df"
      ]
    },
    {
      "cell_type": "code",
      "execution_count": null,
      "metadata": {
        "id": "OKPaiv0DAK02"
      },
      "outputs": [],
      "source": [
        "def data_transformation(df):\n",
        "    df_1 = df\n",
        "    df_1['isProfilePlayerWon'] = df_1['Termination'].str.contains(player_profile)\n",
        "    df_1['isProfilePlayerLost'] = df_1['Termination'].str.contains('won') & ~df_1['Termination'].str.contains(player_profile, na=False)\n",
        "    df_1['isProfilePlayerDrawn'] = df_1['Termination'].str.contains('drawn')\n",
        "    df_1['terminationType'] = df_1['Termination'].apply(lambda x: str(x).split('drawn')[-1] if str(x).split(' won ')[-1] is None else str(x).split(' won ')[-1])\n",
        "    df_1['Opening'] = df['ECOUrl'].str.replace('https://www.chess.com/openings/','')\n",
        "    #df_1['whiteAccuracy'] = df_1['accuracies'].apply(pd.Series)['white']\n",
        "    #df_1['blackAccuracy'] = df_1['accuracies'].apply(pd.Series)['black'] -- cf cellule suivante\n",
        "\n",
        "    #Rajouter une transformation pour avoir le ELO du profil player et de l'opponent pour chq game\n",
        "\n",
        "    return df_1\n"
      ]
    },
    {
      "cell_type": "code",
      "execution_count": null,
      "metadata": {
        "id": "xH4WARtc3Xln"
      },
      "outputs": [],
      "source": [
        "# Ca ne sert à rien de récupérer l'accuracy car >78% de ce champ est vide\n",
        "#d['blackAccuracy'].isna().sum() / d.shape[0]\n",
        "#d.sort_values('EndDate', ascending=True)['blackAccuracy'].iloc[5000:].isna().sum() / d.iloc[5000:].shape[0]"
      ]
    },
    {
      "cell_type": "code",
      "execution_count": null,
      "metadata": {
        "colab": {
          "base_uri": "https://localhost:8080/"
        },
        "id": "3F-CJ_Ph05Fj",
        "outputId": "7d865059-d107-4c21-c10b-f3869e961ebd"
      },
      "outputs": [
        {
          "name": "stdout",
          "output_type": "stream",
          "text": [
            "Number of games played: 1227.0\n",
            "Number of won games:  582.0\n",
            "Number of lost games:  602.0\n",
            "Number of draw games:  43.0\n",
            "Winning % : 47.43276283618582\n",
            "Losing % : 49.06275468622657\n",
            "Drawing % : 3.5044824775876124\n"
          ]
        }
      ],
      "source": [
        "player_stats = player_stats(player_profile)\n",
        "\n",
        "total_games, total_win, total_loss, total_draw, winnnig_perc, losing_perc, drawing_perc = global_player_statistic(player_stats)\n",
        "\n",
        "print('Number of games played:', total_games)\n",
        "print('Number of won games: ', total_win)\n",
        "print('Number of lost games: ', total_loss)\n",
        "print('Number of draw games: ', total_draw)\n",
        "print('Winning % :', winnnig_perc)\n",
        "print('Losing % :', losing_perc)\n",
        "print('Drawing % :', drawing_perc)"
      ]
    },
    {
      "cell_type": "code",
      "execution_count": null,
      "metadata": {
        "colab": {
          "base_uri": "https://localhost:8080/",
          "height": 175
        },
        "id": "hgrZKo060-mV",
        "outputId": "0fc69706-0116-4b62-84bb-fdf97768964f"
      },
      "outputs": [
        {
          "data": {
            "text/html": [
              "\n",
              "  <div id=\"df-3b0c187b-1379-46b4-b750-84d308fabbdd\">\n",
              "    <div class=\"colab-df-container\">\n",
              "      <div>\n",
              "<style scoped>\n",
              "    .dataframe tbody tr th:only-of-type {\n",
              "        vertical-align: middle;\n",
              "    }\n",
              "\n",
              "    .dataframe tbody tr th {\n",
              "        vertical-align: top;\n",
              "    }\n",
              "\n",
              "    .dataframe thead th {\n",
              "        text-align: right;\n",
              "    }\n",
              "</style>\n",
              "<table border=\"1\" class=\"dataframe\">\n",
              "  <thead>\n",
              "    <tr style=\"text-align: right;\">\n",
              "      <th></th>\n",
              "      <th>game_type</th>\n",
              "      <th>win</th>\n",
              "      <th>loss</th>\n",
              "      <th>draw</th>\n",
              "      <th>time_per_move</th>\n",
              "      <th>timeout_percent</th>\n",
              "      <th>winning%</th>\n",
              "      <th>losing%</th>\n",
              "      <th>drawing%</th>\n",
              "    </tr>\n",
              "  </thead>\n",
              "  <tbody>\n",
              "    <tr>\n",
              "      <th>0</th>\n",
              "      <td>chess_daily</td>\n",
              "      <td>29.0</td>\n",
              "      <td>14.0</td>\n",
              "      <td>2.0</td>\n",
              "      <td>13812.0</td>\n",
              "      <td>0.0</td>\n",
              "      <td>64.444444</td>\n",
              "      <td>31.111111</td>\n",
              "      <td>4.444444</td>\n",
              "    </tr>\n",
              "    <tr>\n",
              "      <th>1</th>\n",
              "      <td>chess_rapid</td>\n",
              "      <td>35.0</td>\n",
              "      <td>29.0</td>\n",
              "      <td>6.0</td>\n",
              "      <td>NaN</td>\n",
              "      <td>NaN</td>\n",
              "      <td>50.000000</td>\n",
              "      <td>41.428571</td>\n",
              "      <td>8.571429</td>\n",
              "    </tr>\n",
              "    <tr>\n",
              "      <th>2</th>\n",
              "      <td>chess_bullet</td>\n",
              "      <td>8.0</td>\n",
              "      <td>18.0</td>\n",
              "      <td>0.0</td>\n",
              "      <td>NaN</td>\n",
              "      <td>NaN</td>\n",
              "      <td>30.769231</td>\n",
              "      <td>69.230769</td>\n",
              "      <td>0.000000</td>\n",
              "    </tr>\n",
              "    <tr>\n",
              "      <th>3</th>\n",
              "      <td>chess_blitz</td>\n",
              "      <td>510.0</td>\n",
              "      <td>541.0</td>\n",
              "      <td>35.0</td>\n",
              "      <td>NaN</td>\n",
              "      <td>NaN</td>\n",
              "      <td>46.961326</td>\n",
              "      <td>49.815838</td>\n",
              "      <td>3.222836</td>\n",
              "    </tr>\n",
              "  </tbody>\n",
              "</table>\n",
              "</div>\n",
              "      <button class=\"colab-df-convert\" onclick=\"convertToInteractive('df-3b0c187b-1379-46b4-b750-84d308fabbdd')\"\n",
              "              title=\"Convert this dataframe to an interactive table.\"\n",
              "              style=\"display:none;\">\n",
              "        \n",
              "  <svg xmlns=\"http://www.w3.org/2000/svg\" height=\"24px\"viewBox=\"0 0 24 24\"\n",
              "       width=\"24px\">\n",
              "    <path d=\"M0 0h24v24H0V0z\" fill=\"none\"/>\n",
              "    <path d=\"M18.56 5.44l.94 2.06.94-2.06 2.06-.94-2.06-.94-.94-2.06-.94 2.06-2.06.94zm-11 1L8.5 8.5l.94-2.06 2.06-.94-2.06-.94L8.5 2.5l-.94 2.06-2.06.94zm10 10l.94 2.06.94-2.06 2.06-.94-2.06-.94-.94-2.06-.94 2.06-2.06.94z\"/><path d=\"M17.41 7.96l-1.37-1.37c-.4-.4-.92-.59-1.43-.59-.52 0-1.04.2-1.43.59L10.3 9.45l-7.72 7.72c-.78.78-.78 2.05 0 2.83L4 21.41c.39.39.9.59 1.41.59.51 0 1.02-.2 1.41-.59l7.78-7.78 2.81-2.81c.8-.78.8-2.07 0-2.86zM5.41 20L4 18.59l7.72-7.72 1.47 1.35L5.41 20z\"/>\n",
              "  </svg>\n",
              "      </button>\n",
              "      \n",
              "  <style>\n",
              "    .colab-df-container {\n",
              "      display:flex;\n",
              "      flex-wrap:wrap;\n",
              "      gap: 12px;\n",
              "    }\n",
              "\n",
              "    .colab-df-convert {\n",
              "      background-color: #E8F0FE;\n",
              "      border: none;\n",
              "      border-radius: 50%;\n",
              "      cursor: pointer;\n",
              "      display: none;\n",
              "      fill: #1967D2;\n",
              "      height: 32px;\n",
              "      padding: 0 0 0 0;\n",
              "      width: 32px;\n",
              "    }\n",
              "\n",
              "    .colab-df-convert:hover {\n",
              "      background-color: #E2EBFA;\n",
              "      box-shadow: 0px 1px 2px rgba(60, 64, 67, 0.3), 0px 1px 3px 1px rgba(60, 64, 67, 0.15);\n",
              "      fill: #174EA6;\n",
              "    }\n",
              "\n",
              "    [theme=dark] .colab-df-convert {\n",
              "      background-color: #3B4455;\n",
              "      fill: #D2E3FC;\n",
              "    }\n",
              "\n",
              "    [theme=dark] .colab-df-convert:hover {\n",
              "      background-color: #434B5C;\n",
              "      box-shadow: 0px 1px 3px 1px rgba(0, 0, 0, 0.15);\n",
              "      filter: drop-shadow(0px 1px 2px rgba(0, 0, 0, 0.3));\n",
              "      fill: #FFFFFF;\n",
              "    }\n",
              "  </style>\n",
              "\n",
              "      <script>\n",
              "        const buttonEl =\n",
              "          document.querySelector('#df-3b0c187b-1379-46b4-b750-84d308fabbdd button.colab-df-convert');\n",
              "        buttonEl.style.display =\n",
              "          google.colab.kernel.accessAllowed ? 'block' : 'none';\n",
              "\n",
              "        async function convertToInteractive(key) {\n",
              "          const element = document.querySelector('#df-3b0c187b-1379-46b4-b750-84d308fabbdd');\n",
              "          const dataTable =\n",
              "            await google.colab.kernel.invokeFunction('convertToInteractive',\n",
              "                                                     [key], {});\n",
              "          if (!dataTable) return;\n",
              "\n",
              "          const docLinkHtml = 'Like what you see? Visit the ' +\n",
              "            '<a target=\"_blank\" href=https://colab.research.google.com/notebooks/data_table.ipynb>data table notebook</a>'\n",
              "            + ' to learn more about interactive tables.';\n",
              "          element.innerHTML = '';\n",
              "          dataTable['output_type'] = 'display_data';\n",
              "          await google.colab.output.renderOutput(dataTable, element);\n",
              "          const docLink = document.createElement('div');\n",
              "          docLink.innerHTML = docLinkHtml;\n",
              "          element.appendChild(docLink);\n",
              "        }\n",
              "      </script>\n",
              "    </div>\n",
              "  </div>\n",
              "  "
            ],
            "text/plain": [
              "      game_type    win   loss  draw  time_per_move  timeout_percent  \\\n",
              "0   chess_daily   29.0   14.0   2.0        13812.0              0.0   \n",
              "1   chess_rapid   35.0   29.0   6.0            NaN              NaN   \n",
              "2  chess_bullet    8.0   18.0   0.0            NaN              NaN   \n",
              "3   chess_blitz  510.0  541.0  35.0            NaN              NaN   \n",
              "\n",
              "   winning%    losing%   drawing%   \n",
              "0  64.444444  31.111111   4.444444  \n",
              "1  50.000000  41.428571   8.571429  \n",
              "2  30.769231  69.230769   0.000000  \n",
              "3  46.961326  49.815838   3.222836  "
            ]
          },
          "execution_count": 11,
          "metadata": {},
          "output_type": "execute_result"
        }
      ],
      "source": [
        "player_stats"
      ]
    },
    {
      "cell_type": "code",
      "execution_count": null,
      "metadata": {
        "colab": {
          "base_uri": "https://localhost:8080/"
        },
        "id": "0cwJgmw40isL",
        "outputId": "36a07223-b568-415d-c2c6-b71b7330f568"
      },
      "outputs": [
        {
          "name": "stdout",
          "output_type": "stream",
          "text": [
            "[['2019', '08'], ['2019', '09'], ['2019', '10'], ['2019', '11'], ['2019', '12'], ['2020', '01'], ['2020', '02'], ['2020', '03'], ['2020', '04'], ['2020', '05'], ['2020', '06'], ['2020', '09'], ['2020', '10'], ['2020', '11'], ['2020', '12'], ['2021', '01'], ['2021', '02'], ['2021', '03'], ['2021', '04'], ['2021', '05'], ['2021', '06'], ['2021', '07'], ['2021', '08'], ['2021', '09'], ['2021', '10'], ['2021', '11'], ['2021', '12'], ['2022', '01'], ['2022', '02'], ['2022', '03'], ['2022', '04']]\n"
          ]
        }
      ],
      "source": [
        "player_timeline = get_player_timeline(player_profile)\n",
        "print(player_timeline)"
      ]
    },
    {
      "cell_type": "code",
      "execution_count": null,
      "metadata": {
        "id": "Fre1_3wbkNyN"
      },
      "outputs": [],
      "source": [
        "game_df = pd.DataFrame()\n",
        "game_df = get_all_player_games(player_profile, player_timeline)"
      ]
    },
    {
      "cell_type": "code",
      "execution_count": null,
      "metadata": {
        "colab": {
          "base_uri": "https://localhost:8080/"
        },
        "id": "QAoE8y8g2-XW",
        "outputId": "c0008931-aaa0-494b-c85c-9c284ae9825a"
      },
      "outputs": [
        {
          "data": {
            "text/plain": [
              "array(['chess', 'chess960'], dtype=object)"
            ]
          },
          "execution_count": 14,
          "metadata": {},
          "output_type": "execute_result"
        }
      ],
      "source": [
        "game_df['rules'].unique()"
      ]
    },
    {
      "cell_type": "code",
      "execution_count": null,
      "metadata": {
        "id": "Yvbzjrs0okvB"
      },
      "outputs": [],
      "source": [
        "converted_pgn = convert_pgn_columns(game_df)"
      ]
    },
    {
      "cell_type": "code",
      "execution_count": null,
      "metadata": {
        "id": "SJyp8GiBtC_k"
      },
      "outputs": [],
      "source": [
        "# Concatenation of columns extracted from pgn to game df\n",
        "converted_pgn.reset_index(inplace = True, drop = True)\n",
        "game_df.reset_index(inplace = True, drop = True)\n",
        "\n",
        "full_game_df = pd.DataFrame()\n",
        "full_game_df = game_df.merge(converted_pgn, how='left', left_on='url', right_on='Link')\n",
        "# full_game_df = pd.concat([game_df, converted_pgn], axis=1)"
      ]
    },
    {
      "cell_type": "code",
      "execution_count": null,
      "metadata": {
        "colab": {
          "base_uri": "https://localhost:8080/"
        },
        "id": "tHWulJzvB79Y",
        "outputId": "2c8147b1-37c9-4c6b-c978-139f12b82eed"
      },
      "outputs": [
        {
          "name": "stderr",
          "output_type": "stream",
          "text": [
            "/usr/local/lib/python3.7/dist-packages/ipykernel_launcher.py:7: FutureWarning: The default value of regex will change from True to False in a future version.\n",
            "  import sys\n"
          ]
        }
      ],
      "source": [
        " # Final transformations\n",
        "\n",
        "full_game_df = data_transformation(full_game_df)\n",
        "#d.head()"
      ]
    },
    {
      "cell_type": "code",
      "execution_count": null,
      "metadata": {
        "id": "xjCHUgvUq22h"
      },
      "outputs": [],
      "source": [
        "full_game_df_selected_col = full_game_df[['url', 'time_control', 'EndDate', 'isProfilePlayerWon', 'isProfilePlayerLost',\n",
        "       'isProfilePlayerDrawn', 'terminationType', 'Opening']]\n",
        "\n",
        "    # Other headers available:\n",
        "    #    , 'pgn_2', 'Event', 'Site', 'Date', 'Round', 'White',\n",
        "    #    'Black', 'Result', 'CurrentPosition', 'Timezone', 'ECO', \n",
        "    #    'UTCDate', 'UTCTime', 'WhiteElo', 'BlackElo', 'TimeControl',\n",
        "    #    'Termination', 'Link', 'Moves',\n",
        "    #    'start_time'"
      ]
    },
    {
      "cell_type": "code",
      "execution_count": null,
      "metadata": {
        "id": "uAwbobI0UPkf"
      },
      "outputs": [],
      "source": [
        "# If a csv file is needed\n",
        "\n",
        "# full_game_df_selected_col.to_csv('dataw.csv')"
      ]
    },
    {
      "cell_type": "code",
      "execution_count": null,
      "metadata": {
        "id": "eXEJH0sOiOi5"
      },
      "outputs": [],
      "source": [
        "from gspread_dataframe import set_with_dataframe\n",
        "from google.colab import auth\n",
        "auth.authenticate_user()\n",
        "\n",
        "import gspread\n",
        "\n",
        "from google.auth import default\n",
        "creds, _ = default()\n",
        "\n",
        "gc = gspread.authorize(creds)\n",
        "\n",
        "#sh = gc.create('A new spreadsheet')\n",
        "#data = f.to_csv('data.csv')\n",
        "\n",
        "# Open our new sheet and add some data.\n",
        "wb = gc.open_by_key('1m9YVjSN98lrzNDRuoDBrQ8O_jFAcLIEwYzdxe98JGZU')\n",
        "ws = wb.worksheet('raw data')\n",
        "\n",
        "#ws.update(data)\n",
        "#ws.update([f.columns.values.tolist()] + f.values.tolist())\n",
        "\n",
        "set_with_dataframe(worksheet=ws, dataframe=full_game_df_selected_col, include_index=False,\n",
        "include_column_header=True, resize=True)\n"
      ]
    },
    {
      "cell_type": "code",
      "execution_count": null,
      "metadata": {
        "id": "Th-lTkAJKyj8"
      },
      "outputs": [],
      "source": [
        "# KPI"
      ]
    },
    {
      "cell_type": "code",
      "execution_count": null,
      "metadata": {
        "colab": {
          "base_uri": "https://localhost:8080/"
        },
        "id": "X-gQW-I6LJNe",
        "outputId": "8089f2b1-74b0-48e7-b711-91024976b398"
      },
      "outputs": [
        {
          "name": "stdout",
          "output_type": "stream",
          "text": [
            "You have played: 1248 , Since : 2019.08.29\n",
            "Winning % : 47.43276283618582\n",
            "Your prefered format is : 180+2 Which represents : 54.89 % of your games played\n",
            "Most commun terminaion : by resignation % of time : 40.62 %\n",
            "Your top 3 opennings : Opening\n",
            "Scotch-Game                                50.0\n",
            "Scotch-Game-3...exd4-4.Nxd4-Nxd4-5.Qxd4    50.0\n",
            "Slav-Defense                               50.0\n",
            "dtype: float64\n",
            "Your worst 3 opennings : Opening\n",
            "Scotch-Game...4.Nxd4-Nxd4-5.Qxd4-d6          41.666667\n",
            "Center-Game-Accepted-Paulsen-Attack          40.909091\n",
            "Caro-Kann-Defense-Hillbilly-Attack-2...d5    33.333333\n",
            "dtype: float64\n"
          ]
        }
      ],
      "source": [
        "#from pickle import TRUE\n",
        "print(\"You have played:\", full_game_df_selected_col.shape[0],\n",
        "      \", Since :\", full_game_df_selected_col['EndDate'].min())\n",
        "\n",
        "print('Winning % :', winnnig_perc)\n",
        "\n",
        "print(\"Your prefered format is :\", (full_game_df.groupby(by = 'time_control')['url'].count()).idxmax(),\n",
        "      \"Which represents :\", round((full_game_df.groupby(by = 'time_control')['url'].count()/full_game_df_selected_col.shape[0]*100).max(),2), \"% of your games played\")\n",
        "\n",
        "print(\"Most commun terminaion :\", (full_game_df.groupby(by = 'terminationType')['url'].count()).idxmax(),\n",
        "      \"% of time :\", round((full_game_df.groupby(by = 'terminationType')['url'].count()/full_game_df_selected_col.shape[0]*100).max(),2), \"%\")\n",
        "\n",
        "\n",
        "#at least 20 openings played *\n",
        "index = full_game_df.groupby(by = 'Opening')['url'].count()[full_game_df.groupby(by = 'Opening')['url'].count()>20].index\n",
        "\n",
        "print(\"Your top 3 opennings :\",\n",
        "    (full_game_df.groupby(by = 'Opening')['isProfilePlayerWon'].sum()/full_game_df.groupby(by = 'Opening')['url'].count()*100)[index].sort_values(ascending=False).head(3))\n",
        "\n",
        "print(\"Your worst 3 opennings :\",\n",
        "    (full_game_df.groupby(by = 'Opening')['isProfilePlayerWon'].sum()/full_game_df.groupby(by = 'Opening')['url'].count()*100)[index].sort_values(ascending=False).tail(3))\n",
        "\n",
        "#DataFrame.groupby(by=None, axis=0, level=None, as_index=True, sort=True, group_keys=True, squeeze=NoDefault.no_default, observed=False, dropna=True)"
      ]
    },
    {
      "cell_type": "code",
      "execution_count": null,
      "metadata": {
        "id": "FnqlU5dyKyhK"
      },
      "outputs": [],
      "source": []
    },
    {
      "cell_type": "code",
      "execution_count": null,
      "metadata": {
        "id": "RhfaxT8_Kyep"
      },
      "outputs": [],
      "source": []
    },
    {
      "cell_type": "code",
      "execution_count": null,
      "metadata": {
        "id": "Agj9CyYmKya3"
      },
      "outputs": [],
      "source": []
    },
    {
      "cell_type": "code",
      "execution_count": null,
      "metadata": {
        "id": "-Xmbw_dMKyTg"
      },
      "outputs": [],
      "source": []
    },
    {
      "cell_type": "code",
      "execution_count": null,
      "metadata": {
        "id": "oa9cuFrqKxkA"
      },
      "outputs": [],
      "source": []
    }
  ],
  "metadata": {
    "colab": {
      "provenance": []
    },
    "kernelspec": {
      "display_name": "Python 3",
      "name": "python3"
    },
    "language_info": {
      "name": "python"
    }
  },
  "nbformat": 4,
  "nbformat_minor": 0
}
