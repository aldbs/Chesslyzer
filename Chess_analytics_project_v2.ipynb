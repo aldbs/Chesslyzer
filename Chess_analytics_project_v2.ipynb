{
  "cells": [
    {
      "cell_type": "markdown",
      "metadata": {
        "id": "01xqqC2cNlTt"
      },
      "source": [
        "# Chess analytics project\n",
        "## Description du project\n",
        "Voir : https://www.notion.so/aldbs/Dashboard-sur-mes-stats-Chess-com-b9b4b950d0e24d0c8e3a1655e0429d22\n",
        "\n",
        "Documentation technique : https://pypi.org/project/chess.com/, https://chesscom.readthedocs.io/en/latest/#api-reference\n",
        "\n",
        "Chess module python : https://python-chess.readthedocs.io/en/latest/pgn.html\n",
        "\n",
        "## Etapes\n",
        "1. Intégrer toutes les données d'un joueur\n",
        "2. Calcul de KPI (Nombre de match jouer sur la période, nombre de victoires, analyse des variantes jouées)\n"
      ]
    },
    {
      "cell_type": "code",
      "execution_count": 1,
      "metadata": {
        "id": "LmsI347aHF6r"
      },
      "outputs": [
        {
          "name": "stdout",
          "output_type": "stream",
          "text": [
            "Requirement already satisfied: chess.com in c:\\users\\user\\anaconda3\\lib\\site-packages (2.0.3)\n",
            "Requirement already satisfied: requests==2.28.0 in c:\\users\\user\\anaconda3\\lib\\site-packages (from chess.com) (2.28.0)\n",
            "Requirement already satisfied: aiohttp==3.8.1 in c:\\users\\user\\anaconda3\\lib\\site-packages (from chess.com) (3.8.1)\n",
            "Requirement already satisfied: aiosignal>=1.1.2 in c:\\users\\user\\anaconda3\\lib\\site-packages (from aiohttp==3.8.1->chess.com) (1.2.0)\n",
            "Requirement already satisfied: async-timeout<5.0,>=4.0.0a3 in c:\\users\\user\\anaconda3\\lib\\site-packages (from aiohttp==3.8.1->chess.com) (4.0.1)\n",
            "Requirement already satisfied: yarl<2.0,>=1.0 in c:\\users\\user\\anaconda3\\lib\\site-packages (from aiohttp==3.8.1->chess.com) (1.6.3)\n",
            "Requirement already satisfied: frozenlist>=1.1.1 in c:\\users\\user\\anaconda3\\lib\\site-packages (from aiohttp==3.8.1->chess.com) (1.2.0)\n",
            "Requirement already satisfied: multidict<7.0,>=4.5 in c:\\users\\user\\anaconda3\\lib\\site-packages (from aiohttp==3.8.1->chess.com) (5.1.0)\n",
            "Requirement already satisfied: charset-normalizer<3.0,>=2.0 in c:\\users\\user\\anaconda3\\lib\\site-packages (from aiohttp==3.8.1->chess.com) (2.0.4)\n",
            "Requirement already satisfied: attrs>=17.3.0 in c:\\users\\user\\anaconda3\\lib\\site-packages (from aiohttp==3.8.1->chess.com) (21.4.0)\n",
            "Requirement already satisfied: certifi>=2017.4.17 in c:\\users\\user\\anaconda3\\lib\\site-packages (from requests==2.28.0->chess.com) (2021.10.8)\n",
            "Requirement already satisfied: urllib3<1.27,>=1.21.1 in c:\\users\\user\\anaconda3\\lib\\site-packages (from requests==2.28.0->chess.com) (1.26.9)\n",
            "Requirement already satisfied: idna<4,>=2.5 in c:\\users\\user\\anaconda3\\lib\\site-packages (from requests==2.28.0->chess.com) (3.3)\n",
            "Requirement already satisfied: typing-extensions>=3.6.5 in c:\\users\\user\\anaconda3\\lib\\site-packages (from async-timeout<5.0,>=4.0.0a3->aiohttp==3.8.1->chess.com) (4.1.1)\n",
            "Note: you may need to restart the kernel to use updated packages.\n"
          ]
        }
      ],
      "source": [
        "# pip install chess.com"
      ]
    },
    {
      "cell_type": "code",
      "execution_count": 2,
      "metadata": {
        "id": "gGgRDrosJSZi"
      },
      "outputs": [
        {
          "name": "stdout",
          "output_type": "stream",
          "text": [
            "Requirement already satisfied: nest_asyncio in c:\\users\\user\\anaconda3\\lib\\site-packages (1.5.5)\n"
          ]
        }
      ],
      "source": [
        "!pip install nest_asyncio\n",
        "import nest_asyncio\n",
        "nest_asyncio.apply()"
      ]
    },
    {
      "cell_type": "code",
      "execution_count": 11,
      "metadata": {
        "id": "FmNkbH4sHJIj"
      },
      "outputs": [],
      "source": [
        "import chessdotcom as chess\n",
        "import json\n",
        "import requests\n",
        "import pandas as pd\n",
        "import numpy as np\n",
        "# import chess as ch\n",
        "# import re\n",
        "# import itertools"
      ]
    },
    {
      "cell_type": "code",
      "execution_count": 3,
      "metadata": {
        "id": "tkd0HwOiPYrc"
      },
      "outputs": [],
      "source": [
        "# Define player profile: warning it is case sensitive\n",
        "player_profile = 'aledbs' "
      ]
    },
    {
      "cell_type": "markdown",
      "metadata": {
        "id": "DX2-V8T8OyQr"
      },
      "source": [
        "## **Get general user statistics** "
      ]
    },
    {
      "cell_type": "code",
      "execution_count": 4,
      "metadata": {
        "id": "FVOq-xkVUlw2"
      },
      "outputs": [],
      "source": [
        "# Get player stats\n",
        "def player_stats(profile):\n",
        "    \"\"\"\n",
        "    Return a dataframe of player's statistics\n",
        "\n",
        "    Args:\n",
        "        profile: chess.com profile of the player we want to analyze\n",
        "    \"\"\"\n",
        "    # Get data from chess.com\n",
        "    player_stats = chess.get_player_stats(player_profile).json\n",
        "\n",
        "    # Format payload\n",
        "    ps_df = pd.DataFrame.from_dict(player_stats['stats'])\n",
        "    ps_df = (ps_df.drop(columns=['fide', 'tactics', 'lessons', 'puzzle_rush'], errors='ignore').\n",
        "             dropna().\n",
        "             transpose()['record'].\n",
        "             reset_index().\n",
        "             rename(columns={'index': 'game_type'}\n",
        "                    )\n",
        "             )\n",
        "\n",
        "    ps_df = pd.concat([ps_df.drop(['record'], axis=1), ps_df['record'].apply(pd.Series)], axis=1)\n",
        "\n",
        "    # Compute basic statistics\n",
        "    ps_df['winning% '] = ps_df['win'] / (ps_df['win'] + ps_df['loss'] + ps_df['draw'])*100\n",
        "    ps_df['losing% '] = ps_df['loss'] / (ps_df['win'] + ps_df['loss'] + ps_df['draw'])*100\n",
        "    ps_df['drawing% '] = ps_df['draw'] / (ps_df['win'] + ps_df['loss'] + ps_df['draw'])*100\n",
        "\n",
        "    return ps_df\n",
        "\n",
        "# Get total amout of game played\n",
        "def global_player_statistic(player_stat_df):\n",
        "    total_games = sum(player_stat_df['win']) + sum(player_stat_df['loss']) + sum(player_stat_df['draw'])\n",
        "    total_win = sum(player_stat_df['win'])\n",
        "    total_loss = sum(player_stat_df['loss'])\n",
        "    total_draw = sum(player_stat_df['draw'])\n",
        "    winnnig_perc = total_win/total_games*100\n",
        "    losing_perc = total_loss/total_games*100\n",
        "    drawing_perc = total_draw/total_games*100\n",
        "    return total_games, total_win, total_loss, total_draw, winnnig_perc, losing_perc, drawing_perc"
      ]
    },
    {
      "cell_type": "markdown",
      "metadata": {
        "id": "EQDwtv_ZHWdv"
      },
      "source": [
        "## **Get games history**"
      ]
    },
    {
      "cell_type": "code",
      "execution_count": 6,
      "metadata": {
        "id": "qPpH8x1BSEq6"
      },
      "outputs": [],
      "source": [
        "# Récupérer la liste de tous les mois\n",
        "# Déterminer depuis combien de mois le users joue\n",
        "\n",
        "def get_player_timeline(player_profile):\n",
        "    list_archives_games = chess.get_player_game_archives(player_profile).json['archives']\n",
        "    return [i.split('/')[-2:] for i in list_archives_games]"
      ]
    },
    {
      "cell_type": "code",
      "execution_count": 7,
      "metadata": {
        "id": "vChN9YqSHUKa"
      },
      "outputs": [],
      "source": [
        "# Convertir un fichier pgn (str) en une liste\n",
        "\n",
        "def extract_pgn_to_list(pgn_str):\n",
        "  split_pgn_in_lines = str(pgn_str).replace('[',\"\").replace(']',\"\").replace('\"',\"\").split('\\n')\n",
        "  split_pgn_by_column_value = [item.split(' ', maxsplit=1) for item in split_pgn_in_lines[:-2]]\n",
        "  append_to_list = split_pgn_by_column_value.append(['Moves', split_pgn_in_lines[-2]])\n",
        "  \n",
        "  return split_pgn_by_column_value"
      ]
    },
    {
      "cell_type": "code",
      "execution_count": 8,
      "metadata": {
        "id": "a-Z1cHPeHUHL"
      },
      "outputs": [],
      "source": [
        "# Extraction de l'historique et chargement dans un dataframe \n",
        "def get_all_player_games(player_profile, player_timeline):\n",
        "  game_df = pd.DataFrame()\n",
        "\n",
        "  for month_year in player_timeline:\n",
        "      monthly_game = chess.get_player_games_by_month(player_profile, month_year[0], month_year[1])\n",
        "\n",
        "      #Create df with games of the given month\n",
        "      monthly_game_df = pd.DataFrame(monthly_game.json['games'])\n",
        "      game_df = pd.concat([game_df,monthly_game_df])\n",
        "  return game_df\n",
        "\n",
        "\n",
        "\n",
        "def convert_pgn_columns(df):\n",
        "  game_df = df\n",
        "  game_df = game_df[game_df['rules'] != 'bughouse']\n",
        "\n",
        "  game_df['pgn_2'] = game_df['pgn'].apply(extract_pgn_to_list)\n",
        "\n",
        "  concat_pgn_df = pd.DataFrame()\n",
        "\n",
        "  for item in game_df['pgn_2']:\n",
        "    columns = [subitem[0] for subitem in item]\n",
        "    values = [subitem[-1] for subitem in item]\n",
        "    item_concat_pgn_df = pd.DataFrame(values).transpose()\n",
        "    item_concat_pgn_df.columns = columns\n",
        "    concat_pgn_df = pd.concat([concat_pgn_df, item_concat_pgn_df])\n",
        "  \n",
        "  return concat_pgn_df"
      ]
    },
    {
      "cell_type": "code",
      "execution_count": 9,
      "metadata": {
        "id": "OKPaiv0DAK02"
      },
      "outputs": [],
      "source": [
        "def data_transformation(df):\n",
        "    df_1 = df\n",
        "    df_1['isProfilePlayerWon'] = df_1['Termination'].str.contains(player_profile)\n",
        "    df_1['isProfilePlayerLost'] = df_1['Termination'].str.contains('won') & ~df_1['Termination'].str.contains(player_profile, na=False)\n",
        "    df_1['isProfilePlayerDrawn'] = df_1['Termination'].str.contains('drawn')\n",
        "    df_1['terminationType'] = df_1['Termination'].apply(lambda x: str(x).split('drawn')[-1] if str(x).split(' won ')[-1] is None else str(x).split(' won ')[-1])\n",
        "    df_1['Opening'] = df['ECOUrl'].str.replace('https://www.chess.com/openings/','')\n",
        "    #df_1['whiteAccuracy'] = df_1['accuracies'].apply(pd.Series)['white']\n",
        "    #df_1['blackAccuracy'] = df_1['accuracies'].apply(pd.Series)['black'] -- cf cellule suivante\n",
        "\n",
        "    #Rajouter une transformation pour avoir le ELO du profil player et de l'opponent pour chq game\n",
        "\n",
        "    return df_1\n"
      ]
    },
    {
      "cell_type": "code",
      "execution_count": null,
      "metadata": {
        "id": "xH4WARtc3Xln"
      },
      "outputs": [],
      "source": [
        "# Ca ne sert à rien de récupérer l'accuracy car >78% de ce champ est vide\n",
        "#d['blackAccuracy'].isna().sum() / d.shape[0]\n",
        "#d.sort_values('EndDate', ascending=True)['blackAccuracy'].iloc[5000:].isna().sum() / d.iloc[5000:].shape[0]"
      ]
    },
    {
      "cell_type": "code",
      "execution_count": 12,
      "metadata": {
        "colab": {
          "base_uri": "https://localhost:8080/"
        },
        "id": "3F-CJ_Ph05Fj",
        "outputId": "7d865059-d107-4c21-c10b-f3869e961ebd"
      },
      "outputs": [
        {
          "name": "stdout",
          "output_type": "stream",
          "text": [
            "Number of games played: 10244.0\n",
            "Number of won games:  4973.0\n",
            "Number of lost games:  4747.0\n",
            "Number of draw games:  524.0\n",
            "Winning % : 48.545490042951975\n",
            "Losing % : 46.33932057789926\n",
            "Drawing % : 5.11518937914877\n"
          ]
        }
      ],
      "source": [
        "player_stats = player_stats(player_profile)\n",
        "\n",
        "total_games, total_win, total_loss, total_draw, winnnig_perc, losing_perc, drawing_perc = global_player_statistic(player_stats)\n",
        "\n",
        "print('Number of games played:', total_games)\n",
        "print('Number of won games: ', total_win)\n",
        "print('Number of lost games: ', total_loss)\n",
        "print('Number of draw games: ', total_draw)\n",
        "print('Winning % :', winnnig_perc)\n",
        "print('Losing % :', losing_perc)\n",
        "print('Drawing % :', drawing_perc)"
      ]
    },
    {
      "cell_type": "code",
      "execution_count": 13,
      "metadata": {
        "colab": {
          "base_uri": "https://localhost:8080/",
          "height": 175
        },
        "id": "hgrZKo060-mV",
        "outputId": "0fc69706-0116-4b62-84bb-fdf97768964f"
      },
      "outputs": [
        {
          "data": {
            "text/html": [
              "<div>\n",
              "<style scoped>\n",
              "    .dataframe tbody tr th:only-of-type {\n",
              "        vertical-align: middle;\n",
              "    }\n",
              "\n",
              "    .dataframe tbody tr th {\n",
              "        vertical-align: top;\n",
              "    }\n",
              "\n",
              "    .dataframe thead th {\n",
              "        text-align: right;\n",
              "    }\n",
              "</style>\n",
              "<table border=\"1\" class=\"dataframe\">\n",
              "  <thead>\n",
              "    <tr style=\"text-align: right;\">\n",
              "      <th></th>\n",
              "      <th>game_type</th>\n",
              "      <th>win</th>\n",
              "      <th>loss</th>\n",
              "      <th>draw</th>\n",
              "      <th>time_per_move</th>\n",
              "      <th>timeout_percent</th>\n",
              "      <th>winning%</th>\n",
              "      <th>losing%</th>\n",
              "      <th>drawing%</th>\n",
              "    </tr>\n",
              "  </thead>\n",
              "  <tbody>\n",
              "    <tr>\n",
              "      <th>0</th>\n",
              "      <td>chess_daily</td>\n",
              "      <td>3.0</td>\n",
              "      <td>1.0</td>\n",
              "      <td>0.0</td>\n",
              "      <td>1897.0</td>\n",
              "      <td>0.0</td>\n",
              "      <td>75.000000</td>\n",
              "      <td>25.000000</td>\n",
              "      <td>0.000000</td>\n",
              "    </tr>\n",
              "    <tr>\n",
              "      <th>1</th>\n",
              "      <td>chess_rapid</td>\n",
              "      <td>474.0</td>\n",
              "      <td>406.0</td>\n",
              "      <td>69.0</td>\n",
              "      <td>NaN</td>\n",
              "      <td>NaN</td>\n",
              "      <td>49.947313</td>\n",
              "      <td>42.781876</td>\n",
              "      <td>7.270811</td>\n",
              "    </tr>\n",
              "    <tr>\n",
              "      <th>2</th>\n",
              "      <td>chess_bullet</td>\n",
              "      <td>3481.0</td>\n",
              "      <td>3388.0</td>\n",
              "      <td>358.0</td>\n",
              "      <td>NaN</td>\n",
              "      <td>NaN</td>\n",
              "      <td>48.166597</td>\n",
              "      <td>46.879756</td>\n",
              "      <td>4.953646</td>\n",
              "    </tr>\n",
              "    <tr>\n",
              "      <th>3</th>\n",
              "      <td>chess_blitz</td>\n",
              "      <td>1015.0</td>\n",
              "      <td>952.0</td>\n",
              "      <td>97.0</td>\n",
              "      <td>NaN</td>\n",
              "      <td>NaN</td>\n",
              "      <td>49.176357</td>\n",
              "      <td>46.124031</td>\n",
              "      <td>4.699612</td>\n",
              "    </tr>\n",
              "  </tbody>\n",
              "</table>\n",
              "</div>"
            ],
            "text/plain": [
              "      game_type     win    loss   draw  time_per_move  timeout_percent  \\\n",
              "0   chess_daily     3.0     1.0    0.0         1897.0              0.0   \n",
              "1   chess_rapid   474.0   406.0   69.0            NaN              NaN   \n",
              "2  chess_bullet  3481.0  3388.0  358.0            NaN              NaN   \n",
              "3   chess_blitz  1015.0   952.0   97.0            NaN              NaN   \n",
              "\n",
              "   winning%    losing%   drawing%   \n",
              "0  75.000000  25.000000   0.000000  \n",
              "1  49.947313  42.781876   7.270811  \n",
              "2  48.166597  46.879756   4.953646  \n",
              "3  49.176357  46.124031   4.699612  "
            ]
          },
          "execution_count": 13,
          "metadata": {},
          "output_type": "execute_result"
        }
      ],
      "source": [
        "player_stats"
      ]
    },
    {
      "cell_type": "code",
      "execution_count": 14,
      "metadata": {
        "colab": {
          "base_uri": "https://localhost:8080/"
        },
        "id": "0cwJgmw40isL",
        "outputId": "36a07223-b568-415d-c2c6-b71b7330f568"
      },
      "outputs": [
        {
          "name": "stdout",
          "output_type": "stream",
          "text": [
            "[['2021', '01'], ['2021', '02'], ['2021', '03'], ['2021', '04'], ['2021', '05'], ['2021', '06'], ['2021', '07'], ['2021', '08'], ['2021', '09'], ['2021', '10'], ['2021', '11'], ['2021', '12'], ['2022', '01'], ['2022', '02'], ['2022', '03'], ['2022', '04'], ['2022', '05'], ['2022', '06'], ['2022', '07'], ['2022', '08'], ['2022', '09'], ['2022', '10'], ['2022', '11'], ['2022', '12'], ['2023', '01'], ['2023', '02'], ['2023', '03']]\n"
          ]
        }
      ],
      "source": [
        "player_timeline = get_player_timeline(player_profile)\n",
        "print(player_timeline)"
      ]
    },
    {
      "cell_type": "code",
      "execution_count": 15,
      "metadata": {
        "id": "Fre1_3wbkNyN"
      },
      "outputs": [],
      "source": [
        "game_df = pd.DataFrame()\n",
        "game_df = get_all_player_games(player_profile, player_timeline)"
      ]
    },
    {
      "cell_type": "code",
      "execution_count": 16,
      "metadata": {
        "colab": {
          "base_uri": "https://localhost:8080/"
        },
        "id": "QAoE8y8g2-XW",
        "outputId": "c0008931-aaa0-494b-c85c-9c284ae9825a"
      },
      "outputs": [
        {
          "data": {
            "text/plain": [
              "array(['chess'], dtype=object)"
            ]
          },
          "execution_count": 16,
          "metadata": {},
          "output_type": "execute_result"
        }
      ],
      "source": [
        "game_df['rules'].unique()"
      ]
    },
    {
      "cell_type": "code",
      "execution_count": 17,
      "metadata": {
        "id": "Yvbzjrs0okvB"
      },
      "outputs": [],
      "source": [
        "converted_pgn = convert_pgn_columns(game_df)"
      ]
    },
    {
      "cell_type": "code",
      "execution_count": 18,
      "metadata": {
        "id": "SJyp8GiBtC_k"
      },
      "outputs": [],
      "source": [
        "# Concatenation of columns extracted from pgn to game df\n",
        "converted_pgn.reset_index(inplace = True, drop = True)\n",
        "game_df.reset_index(inplace = True, drop = True)\n",
        "\n",
        "full_game_df = pd.DataFrame()\n",
        "full_game_df = game_df.merge(converted_pgn, how='left', left_on='url', right_on='Link')\n",
        "# full_game_df = pd.concat([game_df, converted_pgn], axis=1)"
      ]
    },
    {
      "cell_type": "code",
      "execution_count": 19,
      "metadata": {
        "colab": {
          "base_uri": "https://localhost:8080/"
        },
        "id": "tHWulJzvB79Y",
        "outputId": "2c8147b1-37c9-4c6b-c978-139f12b82eed"
      },
      "outputs": [
        {
          "name": "stderr",
          "output_type": "stream",
          "text": [
            "C:\\Users\\User\\AppData\\Local\\Temp\\ipykernel_13800\\283183077.py:7: FutureWarning: The default value of regex will change from True to False in a future version.\n",
            "  df_1['Opening'] = df['ECOUrl'].str.replace('https://www.chess.com/openings/','')\n"
          ]
        }
      ],
      "source": [
        " # Final transformations\n",
        "\n",
        "full_game_df = data_transformation(full_game_df)\n",
        "#d.head()"
      ]
    },
    {
      "cell_type": "code",
      "execution_count": 20,
      "metadata": {
        "id": "xjCHUgvUq22h"
      },
      "outputs": [],
      "source": [
        "full_game_df_selected_col = full_game_df[['url', 'time_control', 'EndDate', 'isProfilePlayerWon', 'isProfilePlayerLost',\n",
        "       'isProfilePlayerDrawn', 'terminationType', 'Opening']]\n",
        "\n",
        "    # Other headers available:\n",
        "    #    , 'pgn_2', 'Event', 'Site', 'Date', 'Round', 'White',\n",
        "    #    'Black', 'Result', 'CurrentPosition', 'Timezone', 'ECO', \n",
        "    #    'UTCDate', 'UTCTime', 'WhiteElo', 'BlackElo', 'TimeControl',\n",
        "    #    'Termination', 'Link', 'Moves',\n",
        "    #    'start_time'"
      ]
    },
    {
      "cell_type": "code",
      "execution_count": 21,
      "metadata": {
        "id": "uAwbobI0UPkf"
      },
      "outputs": [],
      "source": [
        "# If a csv file is needed\n",
        "\n",
        "# full_game_df_selected_col.to_csv('dataw.csv')"
      ]
    },
    {
      "cell_type": "code",
      "execution_count": null,
      "metadata": {
        "id": "eXEJH0sOiOi5"
      },
      "outputs": [],
      "source": [
        "from gspread_dataframe import set_with_dataframe\n",
        "from google.colab import auth\n",
        "auth.authenticate_user()\n",
        "\n",
        "import gspread\n",
        "\n",
        "from google.auth import default\n",
        "creds, _ = default()\n",
        "\n",
        "gc = gspread.authorize(creds)\n",
        "\n",
        "#sh = gc.create('A new spreadsheet')\n",
        "#data = f.to_csv('data.csv')\n",
        "\n",
        "# Open our new sheet and add some data.\n",
        "wb = gc.open_by_key('1m9YVjSN98lrzNDRuoDBrQ8O_jFAcLIEwYzdxe98JGZU')\n",
        "ws = wb.worksheet('raw data')\n",
        "\n",
        "#ws.update(data)\n",
        "#ws.update([f.columns.values.tolist()] + f.values.tolist())\n",
        "\n",
        "set_with_dataframe(worksheet=ws, dataframe=full_game_df_selected_col, include_index=False,\n",
        "include_column_header=True, resize=True)\n"
      ]
    },
    {
      "cell_type": "code",
      "execution_count": null,
      "metadata": {
        "id": "Th-lTkAJKyj8"
      },
      "outputs": [],
      "source": [
        "# KPI"
      ]
    },
    {
      "cell_type": "code",
      "execution_count": null,
      "metadata": {
        "colab": {
          "base_uri": "https://localhost:8080/"
        },
        "id": "X-gQW-I6LJNe",
        "outputId": "8089f2b1-74b0-48e7-b711-91024976b398"
      },
      "outputs": [
        {
          "name": "stdout",
          "output_type": "stream",
          "text": [
            "You have played: 1248 , Since : 2019.08.29\n",
            "Winning % : 47.43276283618582\n",
            "Your prefered format is : 180+2 Which represents : 54.89 % of your games played\n",
            "Most commun terminaion : by resignation % of time : 40.62 %\n",
            "Your top 3 opennings : Opening\n",
            "Scotch-Game                                50.0\n",
            "Scotch-Game-3...exd4-4.Nxd4-Nxd4-5.Qxd4    50.0\n",
            "Slav-Defense                               50.0\n",
            "dtype: float64\n",
            "Your worst 3 opennings : Opening\n",
            "Scotch-Game...4.Nxd4-Nxd4-5.Qxd4-d6          41.666667\n",
            "Center-Game-Accepted-Paulsen-Attack          40.909091\n",
            "Caro-Kann-Defense-Hillbilly-Attack-2...d5    33.333333\n",
            "dtype: float64\n"
          ]
        }
      ],
      "source": [
        "#from pickle import TRUE\n",
        "print(\"You have played:\", full_game_df_selected_col.shape[0],\n",
        "      \", Since :\", full_game_df_selected_col['EndDate'].min())\n",
        "\n",
        "print('Winning % :', winnnig_perc)\n",
        "\n",
        "print(\"Your prefered format is :\", (full_game_df.groupby(by = 'time_control')['url'].count()).idxmax(),\n",
        "      \"Which represents :\", round((full_game_df.groupby(by = 'time_control')['url'].count()/full_game_df_selected_col.shape[0]*100).max(),2), \"% of your games played\")\n",
        "\n",
        "print(\"Most commun terminaion :\", (full_game_df.groupby(by = 'terminationType')['url'].count()).idxmax(),\n",
        "      \"% of time :\", round((full_game_df.groupby(by = 'terminationType')['url'].count()/full_game_df_selected_col.shape[0]*100).max(),2), \"%\")\n",
        "\n",
        "\n",
        "#at least 20 openings played *\n",
        "index = full_game_df.groupby(by = 'Opening')['url'].count()[full_game_df.groupby(by = 'Opening')['url'].count()>20].index\n",
        "\n",
        "print(\"Your top 3 opennings :\",\n",
        "    (full_game_df.groupby(by = 'Opening')['isProfilePlayerWon'].sum()/full_game_df.groupby(by = 'Opening')['url'].count()*100)[index].sort_values(ascending=False).head(3))\n",
        "\n",
        "print(\"Your worst 3 opennings :\",\n",
        "    (full_game_df.groupby(by = 'Opening')['isProfilePlayerWon'].sum()/full_game_df.groupby(by = 'Opening')['url'].count()*100)[index].sort_values(ascending=False).tail(3))\n",
        "\n",
        "#DataFrame.groupby(by=None, axis=0, level=None, as_index=True, sort=True, group_keys=True, squeeze=NoDefault.no_default, observed=False, dropna=True)"
      ]
    }
  ],
  "metadata": {
    "colab": {
      "provenance": []
    },
    "kernelspec": {
      "display_name": "Python 3",
      "name": "python3"
    },
    "language_info": {
      "codemirror_mode": {
        "name": "ipython",
        "version": 3
      },
      "file_extension": ".py",
      "mimetype": "text/x-python",
      "name": "python",
      "nbconvert_exporter": "python",
      "pygments_lexer": "ipython3",
      "version": "3.9.12"
    }
  },
  "nbformat": 4,
  "nbformat_minor": 0
}
