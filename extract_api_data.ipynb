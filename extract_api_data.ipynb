{
 "cells": [
  {
   "cell_type": "code",
   "execution_count": 1,
   "metadata": {},
   "outputs": [],
   "source": [
    "# Imports \n",
    "import chessdotcom as chess\n",
    "import pandas as pd\n",
    "import numpy as np\n",
    "import datetime\n",
    "import os"
   ]
  },
  {
   "cell_type": "code",
   "execution_count": 2,
   "metadata": {},
   "outputs": [],
   "source": [
    "# Define player profile: warning it is case sensitive\n",
    "player_profile = 'aledbs' "
   ]
  },
  {
   "cell_type": "code",
   "execution_count": 3,
   "metadata": {},
   "outputs": [],
   "source": [
    "def check_user(player_profile):\n",
    "    try: \n",
    "        chess.get_player_game_archives(player_profile).json['archives']\n",
    "        print(\"User profile is correct\")\n",
    "    except:\n",
    "        print(\"Incorrect user profile\") "
   ]
  },
  {
   "cell_type": "code",
   "execution_count": 4,
   "metadata": {},
   "outputs": [],
   "source": [
    "def get_player_timeline(player_profile:str):\n",
    "    '''\n",
    "    Get list of all years and months were the player played games on chess.com \n",
    "\n",
    "        Parameters:\n",
    "            player_profile (str): Profile of the player\n",
    "        \n",
    "        Returns: \n",
    "            List of lists with Year and Month where player played\n",
    "    '''\n",
    "    list_archives_games = chess.get_player_game_archives(player_profile).json['archives']\n",
    "    year_month_full = [i.split('/')[-2:] for i in list_archives_games]\n",
    "\n",
    "    # Checking if existing data is already player's data, if so get only delta timeline for games played since last integration\n",
    "    if os.path.isfile('./data/raw_api_data.pkl'):\n",
    "        existing_game_df = pd.read_pickle('./data/raw_api_data.pkl')\n",
    "        last_game_played_year = datetime.date.fromtimestamp(existing_game_df['end_time'].max()).year\n",
    "        last_game_played_month = datetime.date.fromtimestamp(existing_game_df['end_time'].max()).month\n",
    "        if existing_game_df['player_profile'].iloc[0] == player_profile:\n",
    "            return [time for time in year_month_full if (int(time[0]) >= last_game_played_year) & (int(time[1]) >= last_game_played_month)]\n",
    "        else:\n",
    "            return year_month_full\n",
    "    else:\n",
    "        return year_month_full"
   ]
  },
  {
   "cell_type": "code",
   "execution_count": 29,
   "metadata": {},
   "outputs": [],
   "source": [
    "def get_all_player_games(player_profile:str, player_timeline:list):\n",
    "  '''\n",
    "    Get list of all years and months were the player played games on chess.com \n",
    "\n",
    "        Parameters:\n",
    "            player_profile: Profile of the player\n",
    "            player_timeline: List of lists with years and months played\n",
    "        \n",
    "        Returns: \n",
    "            game_df (DataFrame): Df containing all games played by the player since day 1\n",
    "  '''\n",
    "  game_df = pd.DataFrame()\n",
    "\n",
    "  for month_year in player_timeline:\n",
    "      monthly_game = chess.get_player_games_by_month(player_profile, month_year[0], month_year[1])\n",
    "      monthly_game_df = pd.DataFrame(monthly_game.json['games'])\n",
    "      game_df = pd.concat([game_df,monthly_game_df])\n",
    "    \n",
    "  game_df['player_profile'] = player_profile\n",
    "\n",
    "  if os.path.isfile('./data/raw_api_data.pkl'):\n",
    "     existing_game_df = pd.read_pickle('./data/raw_api_data.pkl')\n",
    "     game_df = pd.concat([existing_game_df, game_df])   \n",
    "\n",
    "  game_df = pd.concat([game_df, game_df.accuracies.apply(pd.Series).add_suffix('_accuracie')], axis=1)\n",
    "\n",
    "  game_df.pop('white')\n",
    "  game_df.pop('black')\n",
    "  game_df.pop('accuracies')\n",
    "  game_df.pop('0_accuracie')\n",
    "  game_df = game_df.drop_duplicates()\n",
    "\n",
    "  return game_df"
   ]
  },
  {
   "cell_type": "code",
   "execution_count": 6,
   "metadata": {},
   "outputs": [
    {
     "name": "stdout",
     "output_type": "stream",
     "text": [
      "User profile is correct\n"
     ]
    }
   ],
   "source": [
    "check_user(player_profile)"
   ]
  },
  {
   "cell_type": "code",
   "execution_count": 7,
   "metadata": {},
   "outputs": [],
   "source": [
    "player_timeline = get_player_timeline(player_profile)"
   ]
  },
  {
   "cell_type": "code",
   "execution_count": 30,
   "metadata": {},
   "outputs": [],
   "source": [
    "game_df = get_all_player_games(player_profile, player_timeline)"
   ]
  },
  {
   "cell_type": "code",
   "execution_count": 31,
   "metadata": {},
   "outputs": [],
   "source": [
    "game_df.to_pickle('./data/raw_api_data.pkl') "
   ]
  }
 ],
 "metadata": {
  "kernelspec": {
   "display_name": "base",
   "language": "python",
   "name": "python3"
  },
  "language_info": {
   "codemirror_mode": {
    "name": "ipython",
    "version": 3
   },
   "file_extension": ".py",
   "mimetype": "text/x-python",
   "name": "python",
   "nbconvert_exporter": "python",
   "pygments_lexer": "ipython3",
   "version": "3.9.12"
  },
  "orig_nbformat": 4
 },
 "nbformat": 4,
 "nbformat_minor": 2
}
